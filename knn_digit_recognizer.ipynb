{
 "cells": [
  {
   "cell_type": "markdown",
   "metadata": {},
   "source": [
    "# Digit Recognition Using KNN"
   ]
  },
  {
   "cell_type": "markdown",
   "metadata": {},
   "source": [
    "KNN is an algorithm used to categorize new data based off of existing data. This is possible by finding the k nearest neighbors. In this example, we will be categorizing hand written digits using KNN with a training dataset and a test dataset. An overview of how this works is that we want to find how \"similar\" a new piece of data is to the rest of our training dataset. This is done by comparing the pixels of each training dataset to our new piece of data to find how similar they are. In this case, we want to use Euclidean distance to find the difference in each pixel which would sum up to how similar two digits are (the lower the sum, the more similar they are and hence the more likely the new piece of data belongs in the category of the trained data). We will be computing how similar the new piece of data is to every single data in our training dataset. In the end, we should have the k elements which have the smallest (most similar) sum. This list of k elements tells us that the new piece of data are highly similar to the k elements. To categorize the new data, we will take the most common category from the top k elements."
   ]
  },
  {
   "cell_type": "code",
   "execution_count": 44,
   "metadata": {},
   "outputs": [],
   "source": [
    "# libaries to extract data from zip files and read from csv\n",
    "\n",
    "from io import TextIOWrapper\n",
    "from zipfile import ZipFile\n",
    "import csv\n",
    "import numpy as np"
   ]
  },
  {
   "cell_type": "code",
   "execution_count": 45,
   "metadata": {},
   "outputs": [],
   "source": [
    "# extract training dataset and use numpy arrays to allow for better calculations later on\n",
    "\n",
    "with ZipFile('train.csv.zip', 'r') as trainzipfile:\n",
    "    with trainzipfile.open('train.csv') as csvfile:\n",
    "        reader = csv.reader(TextIOWrapper(csvfile, 'utf-8'))\n",
    "        train_label = []\n",
    "        train_data = []\n",
    "        reader.__next__()\n",
    "        for line in reader:\n",
    "            train_label.append(line[0])\n",
    "            train_data.append(line[1:])\n",
    "            \n",
    "train_label = np.array(train_label)\n",
    "train_data = np.array(train_data).astype(int)"
   ]
  },
  {
   "cell_type": "code",
   "execution_count": 46,
   "metadata": {},
   "outputs": [],
   "source": [
    "# extract test dataset and use numpy arrays to allow for better calculations later on\n",
    "\n",
    "with ZipFile('test.csv.zip', 'r') as testzipfile:\n",
    "    with testzipfile.open('test.csv') as csvfile:\n",
    "        reader = csv.reader(TextIOWrapper(csvfile, 'utf-8'))\n",
    "        test_data = []\n",
    "        reader.__next__()\n",
    "        for line in reader:\n",
    "            test_data.append(line)\n",
    "            \n",
    "test_data = np.array(test_data).astype(int)"
   ]
  },
  {
   "cell_type": "code",
   "execution_count": 47,
   "metadata": {},
   "outputs": [],
   "source": [
    "# showing the labelling and actual image of training data (all labelled data is assumed to be accurate and represent the correct answer)\n",
    "\n",
    "from PIL import Image as im\n",
    "\n",
    "data_a = np.reshape(train_data[0], (28, 28))\n",
    "img_a = im.fromarray(data_a.astype(np.uint8))\n",
    "\n",
    "img_a.save('img_a.png')\n",
    "\n",
    "data_b = np.reshape(train_data[123], (28, 28))\n",
    "img_b = im.fromarray(data_b.astype(np.uint8))\n",
    "\n",
    "img_b.save('img_b.png')\n",
    "\n",
    "data_c = np.reshape(train_data[12000], (28, 28))\n",
    "img_c = im.fromarray(data_c.astype(np.uint8))\n",
    "\n",
    "img_c.save('img_c.png')"
   ]
  },
  {
   "cell_type": "code",
   "execution_count": 48,
   "metadata": {},
   "outputs": [
    {
     "name": "stdout",
     "output_type": "stream",
     "text": [
      "1\n"
     ]
    },
    {
     "data": {
      "image/png": "[encoded data removed]",
      "text/plain": [
       "<IPython.core.display.Image object>"
      ]
     },
     "execution_count": 48,
     "metadata": {},
     "output_type": "execute_result"
    }
   ],
   "source": [
    "from IPython.display import Image\n",
    "print(train_label[0])\n",
    "Image(filename='img_a.png')"
   ]
  },
  {
   "cell_type": "code",
   "execution_count": 49,
   "metadata": {},
   "outputs": [
    {
     "name": "stdout",
     "output_type": "stream",
     "text": [
      "6\n"
     ]
    },
    {
     "data": {
      "image/png": "[encoded data removed]",
      "text/plain": [
       "<IPython.core.display.Image object>"
      ]
     },
     "execution_count": 49,
     "metadata": {},
     "output_type": "execute_result"
    }
   ],
   "source": [
    "print(train_label[123])\n",
    "Image(filename='img_b.png')"
   ]
  },
  {
   "cell_type": "code",
   "execution_count": 50,
   "metadata": {},
   "outputs": [
    {
     "name": "stdout",
     "output_type": "stream",
     "text": [
      "7\n"
     ]
    },
    {
     "data": {
      "image/png": "[encoded data removed]",
      "text/plain": [
       "<IPython.core.display.Image object>"
      ]
     },
     "execution_count": 50,
     "metadata": {},
     "output_type": "execute_result"
    }
   ],
   "source": [
    "print(train_label[12000])\n",
    "Image(filename='img_c.png')"
   ]
  },
  {
   "cell_type": "markdown",
   "metadata": {},
   "source": [
    "Here we try to create our own classification model using euclidean distance and knn. It has an accuracy of 79%."
   ]
  },
  {
   "cell_type": "code",
   "execution_count": 51,
   "metadata": {},
   "outputs": [],
   "source": [
    "# define the function used to calculate how similar two images are\n",
    "\n",
    "import math\n",
    "def euclidean(a, b):\n",
    "    diff = 0\n",
    "    for i in range(len(a)):\n",
    "        diff += math.pow(int(a[i]) - int(b[i]), 2)\n",
    "    return math.sqrt(diff)"
   ]
  },
  {
   "cell_type": "code",
   "execution_count": 52,
   "metadata": {},
   "outputs": [],
   "source": [
    "# heapqueue used inplace of a list for faster computation and finding top k in log time\n",
    "\n",
    "import sys\n",
    "import heapq\n",
    "def knn(inp, k):\n",
    "    neighbors = []\n",
    "    for i in range(len(train_data)//10):\n",
    "        temp = (euclidean(train_data[i], inp), train_label[i])\n",
    "        heapq.heappush(neighbors, temp)\n",
    "    topk = [x[1] for x in heapq.nsmallest(k, neighbors)]\n",
    "    return max(topk, key=topk.count)"
   ]
  },
  {
   "cell_type": "code",
   "execution_count": 53,
   "metadata": {},
   "outputs": [],
   "source": [
    "def test(inp, k):\n",
    "    result = knn(test_data[inp], k)\n",
    "    print(f'id: {inp + 1} result: {result}')\n",
    "    return result"
   ]
  },
  {
   "cell_type": "code",
   "execution_count": 54,
   "metadata": {
    "scrolled": true
   },
   "outputs": [
    {
     "name": "stdout",
     "output_type": "stream",
     "text": [
      "id: 1 result: 2\n",
      "id: 2 result: 0\n",
      "id: 3 result: 9\n",
      "id: 4 result: 7\n",
      "id: 5 result: 3\n",
      "id: 6 result: 7\n",
      "id: 7 result: 0\n",
      "id: 8 result: 3\n",
      "id: 9 result: 0\n",
      "id: 10 result: 3\n"
     ]
    }
   ],
   "source": [
    "import matplotlib.pyplot as plt\n",
    "\n",
    "with open('result.csv', 'w', newline='') as csvfile:\n",
    "    headers = [\"ImageId\",\"Label\"]\n",
    "    w = csv.writer(csvfile)\n",
    "    w.writerow(headers)\n",
    "    for i in range(10):\n",
    "        id = i + 1\n",
    "        label = test(i, 20)\n",
    "        w.writerow([id, label])"
   ]
  },
  {
   "cell_type": "code",
   "execution_count": 41,
   "metadata": {},
   "outputs": [],
   "source": [
    "from sklearn.datasets import load_digits\n",
    "from sklearn.neighbors import KNeighborsClassifier\n",
    "from sklearn.model_selection import train_test_split, cross_val_score\n",
    "import numpy as np\n",
    "import matplotlib.pyplot as plt"
   ]
  },
  {
   "cell_type": "code",
   "execution_count": 42,
   "metadata": {},
   "outputs": [
    {
     "data": {
      "image/png": "[encoded data removed]",
      "text/plain": [
       "<Figure size 432x288 with 1 Axes>"
      ]
     },
     "metadata": {
      "needs_background": "light"
     },
     "output_type": "display_data"
    }
   ],
   "source": [
    "ks = np.arange(2, 10)\n",
    "scores = []\n",
    "X_train = train_data[:4000]\n",
    "y_train = train_label[:4000]\n",
    "for k in ks:\n",
    "    model = KNeighborsClassifier(n_neighbors=k)\n",
    "    score = cross_val_score(model, X_train, y_train, cv=5)\n",
    "    score.mean()\n",
    "    scores.append(score.mean())\n",
    "\n",
    "plt.plot(ks, scores)\n",
    "plt.ylabel('accuracy')\n",
    "plt.xlabel('k')\n",
    "plt.show()"
   ]
  },
  {
   "cell_type": "code",
   "execution_count": 43,
   "metadata": {},
   "outputs": [],
   "source": [
    "X_train = train_data[:4000]\n",
    "y_train = train_label[:4000]\n",
    "model = KNeighborsClassifier(n_neighbors=5)\n",
    "model.fit(X_train, y_train)\n",
    "results = model.predict(test_data[:10])\n",
    "\n",
    "with open('result.csv', 'w', newline='') as csvfile:\n",
    "    headers = [\"ImageId\",\"Label\"]\n",
    "    w = csv.writer(csvfile)\n",
    "    w.writerow(headers)\n",
    "    for i in range(len(results)):\n",
    "        id = i + 1\n",
    "        label = results[i]\n",
    "        w.writerow([id, label])\n",
    "\n",
    "    "
   ]
  }
 ],
 "metadata": {
  "kernelspec": {
   "display_name": "Python 3",
   "language": "python",
   "name": "python3"
  },
  "language_info": {
   "codemirror_mode": {
    "name": "ipython",
    "version": 3
   },
   "file_extension": ".py",
   "mimetype": "text/x-python",
   "name": "python",
   "nbconvert_exporter": "python",
   "pygments_lexer": "ipython3",
   "version": "3.8.5"
  }
 },
 "nbformat": 4,
 "nbformat_minor": 4
}
